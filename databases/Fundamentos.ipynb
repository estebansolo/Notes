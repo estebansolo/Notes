{
 "cells": [
  {
   "cell_type": "markdown",
   "metadata": {},
   "source": [
    "# Fundamentos de Base de Datos\n",
    "\n",
    "## Conceptos básicos y contexto histórico de las Bases de Datos\n",
    "\n",
    "El almacenamiento en la nube tiene un gran pro comparada con los otros métodos de almacenamiento ya que es accesible desde cualquier parte del mundo. Además es centralizada y puede ser usada por varias personas al mismo tiempo.\n",
    "\n",
    "Las bases de datos entran cuando hacemos la transición a medios digitales.\n",
    "\n",
    "### Tipos de bases de datos:\n",
    "\n",
    "- **Relacionales:** En la industria hay varias compañías dedicadas a ser manejadoras de bases de datos relacionales como SQL Server, Oracle, MariaDB, entre otras.\n",
    "- **No relacionales:** Todavía están avanzando y existen ejemplos muy distintos como cassandra, elasticsearch, neo4j, MongoDB, entre otras.\n",
    "    \n",
    "### Servicios:\n",
    "\n",
    "- Auto administrados: Es la base de datos que instalas tú y te encargas de actualizaciones, mantenimiento, etc.\n",
    "- Administrados: Servicios que ofrecen las nubes modernas como Azure y no debes preocuparte por mantenimiento o actualizaciones.\n"
   ]
  },
  {
   "cell_type": "markdown",
   "metadata": {},
   "source": [
    "## Historia de las RDB\n",
    "\n",
    "Las bases de datos surgen de la necesidad de conservar la información más allá de lo que existe en la memoria RAM.\n",
    "\n",
    "Las bases de datos basadas en archivos eran datos guardados en texto plano, fáciles de guardar pero muy difíciles de consultar y por la necesidad de mejorar esto nacen las bases de datos relacionales. Su inventor Edgar Codd dejó ciertas reglas para asegurarse de que toda la filosofía de las bases de datos no se perdiera, estandarizando el proceso."
   ]
  },
  {
   "cell_type": "markdown",
   "metadata": {},
   "source": [
    "## Entidades y atributos\n",
    "\n",
    "Una entidad es algo similar a un objeto (programación orientada a objetos) y representa algo en el mundo real, incluso algo abstracto. Tienen atributos que son las cosas que los hacen ser una entidad y por convención se ponen en plural.\n",
    "\n",
    "Los atributos compuestos son aquellos que tienen atributos ellos mismos.\n",
    "\n",
    "Los atributos llave son aquellos que identifican a la entidad y no pueden ser repetidos. Existen:\n",
    "\n",
    "- Naturales: Son inherentes al objeto como el número de serie\n",
    "- Clave artificial: No es inherente al objeto y se asigna de manera arbitraria.\n",
    "\n",
    "Entidades débiles: No pueden existir sin una entidad fuerte y se representan con un cuadrado con doble línea.\n",
    "\n",
    "- Identidades débiles por identidad: No se diferencian entre sí más que por la clave de su identidad fuerte.\n",
    "- Identidades débiles por existencia: Se les asigna una clave propia.\n",
    "\n",
    "\n",
    "#### Attributos\n",
    "\n",
    "- Doble linea: Mas de 1\n",
    "- Subrayado: Clave principal"
   ]
  },
  {
   "cell_type": "markdown",
   "metadata": {},
   "source": [
    "## Relaciones\n",
    "\n",
    "Las relaciones nos permiten ligar o unir nuestras diferentes entidades y se representan con rombos. Por convención se definen a través de verbos.\n",
    "\n",
    "Las relaciones tienen una propiedad llamada cardinalidad y tiene que ver con números. Cuántos de un lado pertenecen a cuántos del otro lado:\n",
    "\n",
    "- Cardinalidad: 1 a 1\n",
    "- Cardinalidad: 0 a 1\n",
    "- Cardinalidad: 1 a N\n",
    "- Cardinalidad: 0 a N\n",
    "- Cardinalidad: N a N"
   ]
  },
  {
   "cell_type": "markdown",
   "metadata": {},
   "source": [
    "## Diagrama ER\n",
    "\n",
    "Un diagrama es como un mapa y nos ayuda a entender cuáles son las entidades con las que vamos a trabajar, cuáles son sus relaciones y qué papel van a jugar en las aplicaciones de la base de datos."
   ]
  },
  {
   "cell_type": "markdown",
   "metadata": {},
   "source": [
    "## Diagrama Físico: tipos de datos y constraints\n",
    "\n",
    "Para llevar a la práctica un diagrama debemos ir más allá y darle detalle con parámetros como:\n",
    "\n",
    "### Tipos de dato:\n",
    "\n",
    "- Texto: CHAR(n), VARCHAR(n), TEXT\n",
    "- Números: INTEGER, BIGINT, SMALLINT, DECIMAL(n,s), NUMERIC(n,s)\n",
    "- Fecha/hora: DATE, TIME, DATETIME, TIMESTAMP\n",
    "- Lógicos: BOOLEAN\n",
    "\n",
    "### Constraints (Restricciones)\n",
    "\n",
    "- NOT NULL: Se asegura que la columna no tenga valores nulos\n",
    "- UNIQUE: Se asegura que cada valor en la columna no se repita\n",
    "- PRIMARY KEY: Es una combinación de NOT NULL y UNIQUE\n",
    "- FOREIGN KEY: Identifica de manera única una tupla en otra tabla\n",
    "- CHECK: Se asegura que el valor en la columna cumpla una condición dada\n",
    "- DEFAULT: Coloca un valor por defecto cuando no hay un valor especificado\n",
    "- INDEX: Se crea por columna para permitir búsquedas más rápidas"
   ]
  },
  {
   "cell_type": "markdown",
   "metadata": {},
   "source": [
    "## Diagrama Físico: normalización\n",
    "\n",
    "La normalización como su nombre lo indica nos ayuda a dejar todo de una forma normal. Esto obedece a las 12 reglas de Codd y nos permiten separar componentes en la base de datos:\n",
    "\n",
    "- Primera forma normal (1FN): Atributos atómicos (Sin campos repetidos)\n",
    "- Segunda forma normal (2FN): Cumple 1FN y cada campo de la tabla debe depender de una clave única.\n",
    "- Tercera forma normal (3FN): Cumple 1FN y 2FN y los campos que NO son clave, NO deben tener dependencias.\n",
    "- Cuarta forma normal (4FN): Cumple 1FN, 2FN, 3FN y los campos multivaluados se identifican por una clave única.\n",
    "\n",
    "La normalización en las bases de datos relacionales es uno de esos temas que, por un lado es sumamente importante y por el otro suena algo esotérico. Vamos a tratar de entender las formas normales (FN) de una manera simple para que puedas aplicarlas en tus proyectos profesionales.\n",
    "\n",
    "### Primera Forma Normal (1FN)\n",
    "Esta FN nos ayuda a eliminar los valores repetidos y no atómicos dentro de una base de datos.\n",
    "\n",
    "Formalmente, una tabla está en primera forma normal si:\n",
    "\n",
    "- Todos los atributos son atómicos. Un atributo es atómico si los elementos del dominio son simples e indivisibles.\n",
    "- No debe existir variación en el número de columnas.\n",
    "- Los campos no clave deben identificarse por la clave (dependencia funcional).\n",
    "- Debe existir una independencia del orden tanto de las filas como de las columnas; es decir, si los datos cambian de orden no deben cambiar sus significados.\n",
    "\n",
    "Se traduce básicamente a que si tenemos campos compuestos como por ejemplo “nombre_completo” que en realidad contiene varios datos distintos, en este caso podría ser “nombre”, “apellido_paterno”, “apellido_materno”, etc.\n",
    "\n",
    "También debemos asegurarnos que las columnas son las mismas para todos los registros, que no haya registros con columnas de más o de menos.\n",
    "\n",
    "Todos los campos que no se consideran clave deben depender de manera única por el o los campos que si son clave.\n",
    "\n",
    "Los campos deben ser tales que si reordenamos los registros o reordenamos las columnas, cada dato no pierda el significado.\n",
    "\n",
    "### Segunda Forma Normal (2FN)\n",
    "\n",
    "Esta FN nos ayuda a diferenciar los datos en diversas entidades.\n",
    "\n",
    "Formalmente, una tabla está en segunda forma normal si:\n",
    "\n",
    "- Está en 1FN\n",
    "- Sí los atributos que no forman parte de ninguna clave dependen de forma completa de la clave principal. Es decir, que no existen dependencias parciales.\n",
    "- Todos los atributos que no son clave principal deben depender únicamente de la clave principal.\n",
    "\n",
    "Lo anterior quiere decir que sí tenemos datos que pertenecen a diversas entidades, cada entidad debe tener un campo clave separado\n",
    "\n",
    "### Tercera Forma Normal (3FN)\n",
    "Esta FN nos ayuda a separar conceptualmente las entidades que no son dependientes.\n",
    "\n",
    "Formalmente, una tabla está en tercera forma normal si:\n",
    "\n",
    "- Se encuentra en 2FN\n",
    "- No existe ninguna dependencia funcional transitiva en los atributos que no son clave\n",
    "\n",
    "Esta FN se traduce en que aquellos datos que no pertenecen a la entidad deben tener una independencia de las demás y debe tener un campo clave propio. Continuando con el ejemplo anterior, al aplicar la 3FN separamos la tabla alumnos ya que contiene datos de los cursos en ella quedando de la siguiente manera.\n",
    "\n",
    "### Cuarta Forma Normal (4FN)\n",
    "\n",
    "Esta FN nos trata de atomizar los datos multivaluados de manera que no tengamos datos repetidos entre rows.\n",
    "\n",
    "Formalmente, una tabla está en cuarta forma normal si:\n",
    "\n",
    "- Se encuentra en 3FN\n",
    "- Los campos multivaluados se identifican por una clave única\n",
    "\n",
    "Esta FN trata de eliminar registros duplicados en una entidad, es decir que cada registro tenga un contenido único y de necesitar repetir la data en los resultados se realiza a través de claves foráneas."
   ]
  },
  {
   "cell_type": "markdown",
   "metadata": {},
   "source": [
    "## RDB ¿Qué?\n",
    "\n",
    "RDBMS significa Relational Database Management System o sistema manejador de bases de datos relacionales. Es un programa que se encarga de seguir las reglas de Codd y se puede utilizar de manera programática.\n",
    "\n",
    "- MySQL\n",
    "- Postgres\n",
    "- Oracle"
   ]
  },
  {
   "cell_type": "markdown",
   "metadata": {},
   "source": [
    "## Instalación local de un RDBMS (Windows)\n",
    "\n",
    "Hay dos maneras de acceder a manejadores de bases de datos:\n",
    "\n",
    "- Instalar en máquina local un administrador de bases relacional.\n",
    "- Tener ambientes de desarrollo especiales o servicios cloud.\n",
    "\n",
    "En este curso usaremos MySQL porque tiene un impacto histórico siendo muy utilizado y además es software libre y gratuito. La versión 5.6.43 es compatible con la mayoría de aplicaciones y frameworks.\n",
    "\n",
    "- Root es el usuario principal que tendrá todos los permisos y por lo tanto en ambientes de producción hay que tener mucho cuidado al configurarlo."
   ]
  },
  {
   "cell_type": "markdown",
   "metadata": {},
   "source": [
    "## Clientes Graficos\n",
    "\n",
    "- MySQL Workbench\n",
    "\n",
    "## Servicios administrados\n",
    "\n",
    "Hoy en día muchas empresas ya no tienen instalados en sus servidores los RDBMS sino que los contratan a otras personas. Estos servicios administrados cloud te permiten concentrarte en la base de datos y no en su administración y actualización."
   ]
  },
  {
   "cell_type": "markdown",
   "metadata": {},
   "source": [
    "## Historia de SQL\n",
    "SQL significa Structured Query Language y tiene una estructura clara y fija. Su objetivo es hacer un solo lenguaje para consultar cualquier manejador de bases de datos volviéndose un gran estándar.\n",
    "\n",
    "Ahora existe el NOSQL o Not Only Structured Query Language que significa que no sólo se utiliza SQLen las bases de datos no relacionales."
   ]
  },
  {
   "cell_type": "markdown",
   "metadata": {},
   "source": [
    "## DDL create\n",
    "SQL tiene dos grandes sublenguajes:\n",
    "\n",
    "DDL o Data Definition Language que nos ayuda a crear la estructura de una base de datos. Existen 3 grandes comandos:\n",
    "\n",
    "- Create: Nos ayuda a crear bases de datos, tablas, vistas, índices, etc.\n",
    "- Alter: Ayuda a alterar o modificar entidades.\n",
    "- Drop: Nos ayuda a borrar. Hay que tener cuidado al utilizarlo.\n",
    "\n",
    "#### 3 objetos que manipularemos con el lenguaje DDL:\n",
    "\n",
    "- Database o bases de datos\n",
    "- Table o tablas. Son la traducción a SQL de las entidades\n",
    "- View o vistas: Se ofrece la proyección de los datos de la base de datos de forma entendible.\n",
    "\n",
    "#### Commands\n",
    "```\n",
    "CREATE DATABASE mydb;\n",
    "\n",
    "USE DATABASE mydb;\n",
    "\n",
    "CREATE TABLE people (\n",
    "    person_id int,\n",
    "    last_name varchar(255),\n",
    "    first_name varchar(255)    \n",
    ")\n",
    "```"
   ]
  },
  {
   "cell_type": "markdown",
   "metadata": {},
   "source": [
    "## CREATE VIEW y DDL ALTER\n",
    "\n",
    "Los view toman datos de la base de datos, los exponen en una forma presentable y se convierten en algo que podamos usar frecuentemente.\n",
    "\n",
    "```\n",
    "CREATE VIEW v_brasil_customer AS\n",
    "    SELECT customer_name, customer_address\n",
    "    FROM customers\n",
    "    WHERE country = \"Brazil\"\n",
    "    \n",
    "    \n",
    "ALTER TABLE people\n",
    "ADD date_birth date;\n",
    "\n",
    "ALTER TABLE people\n",
    "ALTER COLUMN date_birth year;\n",
    "\n",
    "ALTER TABLE people\n",
    "DROP COLUMN date_birth;\n",
    "```"
   ]
  },
  {
   "cell_type": "markdown",
   "metadata": {},
   "source": [
    "## DDL drop\n",
    "\n",
    "Está puede ser la sentencia ¡más peligrosa! (????), sobre todo cuando somos principiantes. Básicamente borra o desaparece de nuestra base de datos algún elemento.\n",
    "\n",
    "```\n",
    "DROP TABLE people;\n",
    "DROP DATABASE mytest;\n",
    "```"
   ]
  },
  {
   "cell_type": "markdown",
   "metadata": {},
   "source": [
    "## DML\n",
    "DML trata del contenido de la base de datos. Son las siglas de Data Manipulation Language y sus comandos son:\n",
    "\n",
    "- Insert: Inserta o agrega nuevos registros a la tabla.\n",
    "- Update: Actualiza o modifica los datos que ya existen.\n",
    "- Delete: Esta sentencia es riesgosa porque puede borrar el contenido de una tabla.\n",
    "- Select: Trae información de la base de datos."
   ]
  },
  {
   "cell_type": "markdown",
   "metadata": {},
   "source": [
    "## ¿Qué tan standard es SQL?\n",
    "La utilidad más grande de SQL fue unificar la forma en la que pensamos y hacemos preguntas a un repositorio de datos. Ahora que nacen nuevas bases de datos igualmente siguen tomando elementos de SQL.\n",
    "\n",
    "- El comando “cascade” sirve para que cada que se haga un update en la tabla principal, se refleje también en la tabla en la que estamos creando la relación.\n",
    "- Las tablas transitivas sirven como puente para unir dos tablas. No tienen contenido semántico.\n",
    "- Reverse Engineer nos reproduce el esquema del cual nos basamos para crear nuestras tablas. Es útil cuando llegas a un nuevo trabajo y quieres entender cuál fue la mentalidad que tuvieron al momento de crear las bases de datos."
   ]
  },
  {
   "cell_type": "markdown",
   "metadata": {},
   "source": [
    "## ¿Por qué las consultas son tan importantes?\n",
    "Las consultas o queries a una base de datos son una parte fundamental ya que esto podría salvar un negocio o empresa.\n",
    "Alrededor de las consultas a las bases de datos se han creado varias especialidades como ETL o transformación de datos, business intelligence e incluso machine learning."
   ]
  },
  {
   "cell_type": "markdown",
   "metadata": {},
   "source": [
    "## Estructura básica de un Query\n",
    "\n",
    "Los queries son la forma en la que estructuramos las preguntas que se harán a la base de datos. Transforma preguntas en sintaxis.\n",
    "\n",
    "El query tiene básicamente 2 partes: SELECT y FROM y puede aparecer una tercera como WHERE.\n",
    "\n",
    "- La estrellita o asterisco (*) quiere decir que vamos a seleccionar todo sin filtrar campos.\n",
    "\n",
    "```mysql\n",
    "SELECT country, count(*) as total\n",
    "\n",
    "FROM people\n",
    "\n",
    "WHERE active = true\n",
    "\n",
    "GROUP BY country\n",
    "\n",
    "ORDER BY total\n",
    "\n",
    "HAVING total >= 2;\n",
    "```"
   ]
  },
  {
   "cell_type": "markdown",
   "metadata": {},
   "source": [
    "## SELECT\n",
    "\n",
    "SELECT se encarga de proyectar o mostrar datos.\n",
    "\n",
    "- El nombre de las columnas o campos que estamos consultando puede ser cambiado utilizando AS después del nombre del campo y poniendo el nuevo que queremos tener:\n",
    "\n",
    "```mysql\n",
    "SELECT titulo AS encabezado\n",
    "FROM posts;\n",
    "```\n",
    "\n",
    "- Existe una función de SELECT para poder contar la cantidad de registros. Esa información (un número) será el resultado del query:\n",
    "\n",
    "```mysql\n",
    "SELECT COUNT(*)\n",
    "FROM posts;\n",
    "```"
   ]
  },
  {
   "cell_type": "markdown",
   "metadata": {},
   "source": [
    "## FROM\n",
    "\n",
    "FROM indica de dónde se deben traer los datos y puede ayudar a hacer sentencias y filtros complejos cuando se quieren unir tablas. La sentencia compañera que nos ayuda con este proceso es JOIN.\n",
    "\n",
    "Los diagramas de Venn son círculos que se tocan en algún punto para ver dónde está la intersección de conjuntos. Ayudan mucho para poder formular la sentencia JOIN de la manera adecuada dependiendo del query que se quiere hacer.\n",
    "\n",
    "```mysql\n",
    "SELECT *\n",
    "FROM usuarios\n",
    "INNER JOIN posts ON usuarios.id= posts.usuario_id\n",
    "LEFT JOIN comentarios ON comentarios.posts_id = posts.id;\n",
    "```\n",
    "\n",
    "[https://www.adictosaltrabajo.com/2010/09/03/joinsgraficos/](https://www.adictosaltrabajo.com/2010/09/03/joinsgraficos/)"
   ]
  },
  {
   "cell_type": "markdown",
   "metadata": {},
   "source": [
    "## WHERE\n",
    "\n",
    "WHERE es la sentencia que nos ayuda a filtrar tuplas o registros dependiendo de las características que elegimos.\n",
    "\n",
    "- La propiedad LIKE nos ayuda a traer registros de los cuales conocemos sólo una parte de la información.\n",
    "- La propiedad BETWEEN nos sirve para arrojar registros que estén en el medio de dos. Por ejemplo los registros con id entre 20 y 30.\n",
    "\n",
    "Funciones para usar en el Where\n",
    "\n",
    "- YEAR\n",
    "- MONTH\n",
    "\n",
    "## Utilizando la sentencia WHERE nulo y no nulo\n",
    "El valor nulo en una tabla generalmente es su valor por defecto cuando nadie le asignó algo diferente. La sintaxis para hacer búsquedas de datos nulos es IS NULL. La sintaxis para buscar datos que no son nulos es IS NOT NULL"
   ]
  },
  {
   "cell_type": "markdown",
   "metadata": {},
   "source": [
    "## GROUP BY\n",
    "GROUP BY tiene que ver con agrupación. Indica a la base de datos qué criterios debe tener en cuenta para agrupar.\n",
    "\n",
    "```mysql\n",
    "select nombre_etiqueta ,categoria_id, count(*) as num\n",
    "from posts\n",
    "inner join etiquetas on posts.categoria_id = etiquetas.id\n",
    "group by categoria_id, nombre_etiqueta\n",
    "```"
   ]
  },
  {
   "cell_type": "markdown",
   "metadata": {},
   "source": [
    "## ORDER BY y HAVING\n",
    "La sentencia ORDER BY tiene que ver con el ordenamiento de los datos dependiendo de los criterios que quieras usar.\n",
    "\n",
    "- ASC sirve para ordenar de forma ascendente.\n",
    "- DESC sirve para ordenar de forma descendente.\n",
    "- LIMIT se usa para limitar la cantidad de resultados que arroja el query.\n",
    "\n",
    "HAVING tiene una similitud muy grande con WHERE, sin embargo el uso de ellos depende del orden. Cuando se quiere seleccionar tuplas agrupadas únicamente se puede hacer con HAVING.\n",
    "\n",
    "```mysql\n",
    "SELECT city.city, country.country, address.address, district, COUNT(address.address) AS direcciones_por_country FROM city\n",
    "INNER JOIN country\n",
    "ON city.country_id = country.country_id\n",
    "RIGHT JOIN address\n",
    "ON address.city_id = city.city_id\n",
    "GROUP BY country.country\n",
    "HAVING direcciones_por_country > 5\n",
    "```"
   ]
  },
  {
   "cell_type": "markdown",
   "metadata": {},
   "source": [
    "## El interminable agujero de conejo (Nested queries)\n",
    "\n",
    "Los Nested queries significan que dentro de un query podemos hacer otro query. Esto sirve para hacer join de tablas, estando una en memoria. También teniendo un query como condicional del otro.\n",
    "\n",
    "Este proceso puede ser tan profundo como quieras, teniendo infinitos queries anidados.\n",
    "Se le conoce como un producto cartesiano ya que se multiplican todos los registros de una tabla con todos los del nuevo query. Esto provoca que el query sea difícil de procesar por lo pesado que puede resultar."
   ]
  },
  {
   "cell_type": "markdown",
   "metadata": {},
   "source": [
    "## ¿Cómo convertir una pregunta en un query SQL?\n",
    "\n",
    "De pregunta a Query\n",
    "\n",
    "- **SELECT:** Lo que quieres mostrar\n",
    "- **FROM:** De dónde voy a tomar los datos\n",
    "- **WHERE:** Los filtros de los datos que quieres mostrar\n",
    "- **GROUP BY:** Los rubros por los que me interesa agrupar la información\n",
    "- **ORDER BY:** El orden en que quiero presentar mi información\n",
    "- **HAVING:** Los filtros que quiero que mis datos agrupados tengan\n",
    "\n",
    "\n",
    "- GROUP_CONCAT toma el resultado del query y lo pone como campo separado por comas. Este valor va en el select"
   ]
  },
  {
   "cell_type": "markdown",
   "metadata": {},
   "source": [
    "## ¿Qué son y cuáles son los tipos de bases de datos no relacionales?\n",
    "\n",
    "Respecto a las bases de datos no relacionales, no existe un solo tipo aunque se engloben en una sola categoría.\n",
    "\n",
    "### Tipos de bases de datos no relacionales:\n",
    "\n",
    "- Clave - valor: Son ideales para almacenar y extraer datos con una clave única. Manejan los diccionarios de manera excepcional. Ejemplos: DynamoDB, Cassandra.\n",
    "- Basadas en documentos: Son una implementación de clave valor que varía en la forma semiestructurada en que se trata la información. Ideal para almacenar datos JSON y XML. Ejemplos: MongoDB, Firestore.\n",
    "- Basadas en grafos: Basadas en teoría de grafos, sirven para entidades que se encuentran interconectadas por múltiples relaciones. Ideales para almacenar relaciones complejas. Ejemplos: neo4j, TITAN.\n",
    "- En memoria: Pueden ser de estructura variada, pero su ventaja radica en la velocidad, ya que al vivir en memoria la extracción de datos es casi inmediata. Ejemplos: Memcached, Redis.\n",
    "- Optimizadas para búsquedas: Pueden ser de diversas estructuras, su ventaja radica en que se pueden hacer queries y búsquedas complejas de manera sencilla. Ejemplos: BigQuery, Elasticsearch."
   ]
  },
  {
   "cell_type": "markdown",
   "metadata": {},
   "source": [
    "## Servicios administrados y jerarquía de datos\n",
    "\n",
    "Firebase es un servicio de Google donde puedes tercerizar muchos elementos en la nube.\n",
    "\n",
    "### Jerarquía de datos:\n",
    "\n",
    "- Base de datos\n",
    "- Colección\n",
    "- Documento"
   ]
  },
  {
   "cell_type": "markdown",
   "metadata": {},
   "source": [
    "## Top level collection con Firebase\n",
    "\n",
    "El modelo de bases de datos no relacionales es un poco más cercano al mundo real en su comportamiento.\n",
    "\n",
    "- Las top level collections son las colecciones que se tienen de inmediato o entrada en el proyecto.\n",
    "- Firebase es un servicio que tiene múltiples opciones y está pensado principalmente para aplicaciones móviles y web.\n",
    "\n",
    "### Colecciones vs subcolecciones\n",
    "\n",
    "La particularidad de las top level collections es que existen en el primer nivel de manera intrínseca. Las subcolecciones ya no vivirán al inicio de la base de datos.\n",
    "\n",
    "Si tienes una entidad separada que vas a referenciar desde muchos lugares es recomendado usar un top level collection. Por el otro lado si se necesita hacer algo intrínseco al documento es aconsejable usar subcolecciones."
   ]
  },
  {
   "cell_type": "markdown",
   "metadata": {},
   "source": [
    "## Bases de datos en la vida real"
   ]
  },
  {
   "cell_type": "markdown",
   "metadata": {},
   "source": [
    "## Big Data\n",
    "\n",
    "Big Data es un concepto que nace de la necesidad de manejar grandes cantidades de datos. La tendencia comenzó con compañías como YouTube al tener la necesidad de guardar y consultar mucha información de manera rápida.\n",
    "Es un gran movimiento que consiste en el uso de diferentes tipos de bases de datos.\n",
    "\n",
    "## Data warehouse\n",
    "\n",
    "Data Warehouse trata de guardar cantidades masivas de datos para la posteridad. Allí se guarda todo lo que no está viviendo en la aplicación pero es necesario tenerlo.\n",
    "Debe servir para guardar datos por un largo periodo de tiempo y estos datos se deben poder usar para poder encontrar cuestiones interesantes para el negocio.\n",
    "\n",
    "## Data mining\n",
    "\n",
    "El Data Mining se dedica a minar datos, a extraerlos de donde sea que estén (archivos muertos, base de datos actual, etc…) y hacer sentido de ellos para darles un uso.\n",
    "\n",
    "## ETL\n",
    "\n",
    "ETL son las siglas de Extract, Transform, Load (extraer, transformar y cargar). Se trata de tomar datos de archivos muertos y convertirlos en algo que sea de utilidad para el negocio.\n",
    "También ayuda a tomar los datos vivos de la aplicación, transformarlos y guardarlos en un data warehouse periódicamente.\n",
    "\n",
    "## Business intelligence\n",
    "\n",
    "Business Intelligence es una parte muy importante de las carreras de datos ya que es el punto final del manejo de estos. Su razón de ser es tener la información lista, clara y que tenga todos los elementos para tomar decisiones en una empresa.\n",
    "Es necesario tener una buena sensibilidad por entender el negocio, sus necesidades y la información que puede llevar a tomar decisiones en el momento adecuado al momento de realizar business intelligence.\n",
    "\n",
    "## Machine Learning\n",
    "Machine Learning tiene significados que varían. Es una serie de técnicas que involucran la inteligencia artificial y la detección de patrones.\n",
    "Machine learning para datos tiene un gran campo de acción y es un paso más allá del business intelligence.\n",
    "Nos ayuda a hacer modelos que encuentran patrones fortuitos encontrando correlaciones inesperadas.\n",
    "\n",
    "### Tiene dos casos de uso particulares:\n",
    "\n",
    "- Clasificación\n",
    "- Predicción\n",
    "\n",
    "## Data Science\n",
    "\n",
    "Data Science es aplicar todas las técnicas de procesamiento de datos. En su manera más pura tiene que ver con gente con un background de estadísticas y ciencias duras.\n",
    "\n",
    "## ¿Por qué aprender bases de datos hoy?\n",
    "¡Has concluido el curso! Ahora tienes potentes herramientas y posibilidades para ingresar en este apasionante campo.\n",
    "\n",
    "Llevaste diagramas a bases de datos, exploraste un poco el mundo de las bases de datos no relacionales, hicimos un proyecto en firestore y transformamos Platzi blog de una base de datos relacional en una base de datos de documentos.\n",
    "\n",
    "Dentro de las posibilidades que tienes hoy en día puedes hacer: Machine learning, ETL, Data Warehouse, Data mining, entre otros.\n",
    "\n",
    "Recuerda practicar mucho con el proyecto. Te invito a que tomes el examen y verifiques tus conocimientos. ¡Exitos!\n",
    "\n"
   ]
  },
  {
   "cell_type": "code",
   "execution_count": null,
   "metadata": {},
   "outputs": [],
   "source": []
  }
 ],
 "metadata": {
  "kernelspec": {
   "display_name": "Python 3",
   "language": "python",
   "name": "python3"
  },
  "language_info": {
   "codemirror_mode": {
    "name": "ipython",
    "version": 3
   },
   "file_extension": ".py",
   "mimetype": "text/x-python",
   "name": "python",
   "nbconvert_exporter": "python",
   "pygments_lexer": "ipython3",
   "version": "3.7.4"
  }
 },
 "nbformat": 4,
 "nbformat_minor": 2
}
