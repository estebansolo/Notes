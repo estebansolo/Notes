{
 "cells": [
  {
   "cell_type": "markdown",
   "metadata": {},
   "source": [
    "# Librerias de Visualizacion\n",
    "\n",
    "- Bokeh\n",
    "- Matplotlib\n",
    "- Seaborn\n",
    "- plotly\n",
    "- Altair"
   ]
  },
  {
   "cell_type": "code",
   "execution_count": 1,
   "metadata": {},
   "outputs": [
    {
     "data": {
      "text/plain": [
       "20365011074"
      ]
     },
     "execution_count": 1,
     "metadata": {},
     "output_type": "execute_result"
    }
   ],
   "source": [
    "import sys\n",
    "\n",
    "def fibonacci_recursivo(n):\n",
    "    if n == 0 or n == 1:\n",
    "        return 1\n",
    "    \n",
    "    return fibonacci_recursivo(n - 1) + fibonacci_recursivo(n - 2)\n",
    "\n",
    "def fibonacci_dinamico(n, memo={}):\n",
    "    if n == 0 or n == 1:\n",
    "        return 1\n",
    "    \n",
    "    try:\n",
    "        return memo[n]\n",
    "    except KeyError:\n",
    "        result = fibonacci_dinamico(n - 1, memo) + fibonacci_dinamico(n - 2, memo)\n",
    "        memo[n] = result\n",
    "        return result\n",
    "    \n",
    "sys.setrecursionlimit(10002)\n",
    "fibonacci_dinamico(50)\n",
    "    "
   ]
  },
  {
   "cell_type": "markdown",
   "metadata": {},
   "source": [
    "## Caminos Aleatorios\n",
    "\n",
    "- Es un tipo de simulacion que elige aleatoriamente una decision dentro de un conjunto de decisiones validas\n",
    "- Se utiliza en muchos campos del conocimiento cuando los sistemas no son deterministas e incluye elementos de aleatoriedad."
   ]
  },
  {
   "cell_type": "code",
   "execution_count": 2,
   "metadata": {},
   "outputs": [
    {
     "name": "stdout",
     "output_type": "stream",
     "text": [
      "BorrachoTradicional caminata aleatoria de 10 pasos\n",
      "Media 2.786\n",
      "Maxima 7.2\n",
      "Minima 0.0\n",
      "BorrachoTradicional caminata aleatoria de 100 pasos\n",
      "Media 8.448\n",
      "Maxima 22.8\n",
      "Minima 0.0\n",
      "BorrachoTradicional caminata aleatoria de 1000 pasos\n",
      "Media 28.064\n",
      "Maxima 73.6\n",
      "Minima 3.2\n",
      "BorrachoTradicional caminata aleatoria de 10000 pasos\n",
      "Media 90.135\n",
      "Maxima 211.6\n",
      "Minima 10.0\n"
     ]
    }
   ],
   "source": [
    "import random\n",
    "from bokeh.plotting import figure, show\n",
    "\n",
    "class Borracho:\n",
    "    def __init__(self, name):\n",
    "        self.name = name\n",
    "        \n",
    "class BorrachoTradicional(Borracho):\n",
    "    def __init__(sefl, name):\n",
    "        super().__init__(name)\n",
    "    \n",
    "    def walk(self):\n",
    "        return random.choice([(0, 1), (0, -1), (1, 0), (-1, 0)])\n",
    "\n",
    "class Coordenada:\n",
    "    def __init__(self, x ,y):\n",
    "        self.x = x\n",
    "        self.y = y\n",
    "        \n",
    "    def move(self, delta_x, delta_y):\n",
    "        return Coordenada(self.x + delta_x, self.y + delta_y)\n",
    "    \n",
    "    def distance(self, coordenada):\n",
    "        delta_x = self.x - coordenada.x\n",
    "        delta_y = self.y - coordenada.y\n",
    "        \n",
    "        return (delta_x ** 2 + delta_y ** 2) ** 0.5\n",
    "    \n",
    "class Campo:\n",
    "    def __init__(self):\n",
    "        self.coordenadas = {}\n",
    "        \n",
    "    def add_borracho(self, borracho, coordenada):\n",
    "        self.coordenadas[borracho] = coordenada\n",
    "        \n",
    "    def move_borracho(self, borracho):\n",
    "        delta_x, delta_y = borracho.walk()\n",
    "        coordenada_actual = self.coordenadas[borracho]\n",
    "        new_coordenada = coordenada_actual.move(delta_x, delta_y)\n",
    "        self.coordenadas[borracho] = new_coordenada\n",
    "        \n",
    "    def get_coordenada(self, borracho):\n",
    "        return self.coordenadas[borracho]\n",
    "\n",
    "def walk(campo, borracho, steps):\n",
    "    start = campo.get_coordenada(borracho)\n",
    "    \n",
    "    for _ in range(steps):\n",
    "        campo.move_borracho(borracho)\n",
    "        \n",
    "    return start.distance(campo.get_coordenada(borracho))\n",
    "\n",
    "def graficar(x, y):\n",
    "    grafica = figure(title=\"Camino Aleatorio\", x_axis_label=\"Pasos\", y_axis_label=\"Distancia\")\n",
    "    grafica.line(x, y, legend= \"Distancia Media\")\n",
    "    \n",
    "    show(grafica)\n",
    "\n",
    "def simulate_walk(steps, tries, borracho):\n",
    "    borracho = borracho(name = \"Jose\")\n",
    "    start = Coordenada(0, 0)\n",
    "    distances = []\n",
    "    \n",
    "    for _ in range(tries):\n",
    "        campo = Campo()\n",
    "        campo.add_borracho(borracho, start)\n",
    "        simulation = walk(campo, borracho, steps)\n",
    "        distances.append(round(simulation, 1))\n",
    "    \n",
    "    return distances\n",
    "        \n",
    "    \n",
    "\n",
    "tries = 100\n",
    "walk_distances = [10, 100, 1000, 10000]\n",
    "borracho = BorrachoTradicional\n",
    "distancias_medias = []\n",
    "for steps in walk_distances:\n",
    "    distances = simulate_walk(steps, tries, borracho)\n",
    "    distancia_media = round(sum(distances) / len(distances), 4)\n",
    "    distancia_maxima = max(distances)\n",
    "    distancia_minima = min(distances)\n",
    "    distancias_medias.append(distancia_media)\n",
    "    print(f\"{borracho.__name__} caminata aleatoria de {steps} pasos\")\n",
    "    print(f\"Media {distancia_media}\")\n",
    "    print(f\"Maxima {distancia_maxima}\")\n",
    "    print(f\"Minima {distancia_minima}\")\n",
    "\n",
    "graficar(walk_distances, distancias_medias)"
   ]
  },
  {
   "cell_type": "markdown",
   "metadata": {},
   "source": [
    "## Programacion Estocastica\n",
    "\n",
    "- Un programa es deterministico si cuando se corre con el mismo *input* produce el mismo output.\n",
    "- Los programas deterministicos son muy importantes, pero existen problemas que no pueden resolverse de esta manera.\n",
    "La programacion estocastica permite introducir aleatoriedad a nuestros programas para crear simulaciones que permiten resolver otro tipo de problemas.\n",
    "\n",
    "- Los programas estocasticos se aprovechan de que las distribuciones probabilisticas de un problema se conocen o pueden ser estimadas."
   ]
  },
  {
   "cell_type": "markdown",
   "metadata": {},
   "source": [
    "## Probabilidades\n",
    "\n",
    "- La probabilidad es una medida de la certidumbre asociada a un evento o suceso futuro y suele expresarse como un numero entre 0 y 1\n",
    "- Una probabilidad de 0 significa que un suceso jamas sucedera, mientras que 1 esta garantizado de suceder en el futuro.\n",
    "- Al hablar de probabilidad preguntamos que fraccion de todos los posibles eventos tiene la propiedad que buscamos\n",
    "- Pror eso es importante poder calcular todas las posibilidades de un evento para entender su probabilidad\n",
    "- La probabilidad de que un evento suceda y que no suceda es siempre 1\n",
    "\n",
    "```python\n",
    "# Ley de complemento\n",
    "P(A) + P(~A) = 1\n",
    "\n",
    "# Ley multiplicativa\n",
    "P(A y B) = P(A) * P(B)\n",
    "\n",
    "# Ley Aditiva\n",
    "P(A o B) = P(A) + P(B) (Mutuamente exclusivos)\n",
    "P(A o B) = P(A) + P(B) - P(A y B) (no exclusivos)\n",
    "```"
   ]
  },
  {
   "cell_type": "code",
   "execution_count": 3,
   "metadata": {},
   "outputs": [
    {
     "name": "stdout",
     "output_type": "stream",
     "text": [
      "Cuantos tiros del dado: 50\n",
      "Cuantas veces correra la simulacion: 100\n",
      "Probabilidad de obtener un 1 en 50 tiros = 1.0\n"
     ]
    }
   ],
   "source": [
    "import random\n",
    "\n",
    "def tirar_dado(numero_tiros):\n",
    "    secuencia_tiros = []\n",
    "    for _ in range(numero_tiros):\n",
    "        tiro = random.choice([1, 2, 3, 4, 5, 6])\n",
    "        secuencia_tiros.append(tiro)\n",
    "    \n",
    "    return secuencia_tiros\n",
    "\n",
    "def main(numero_tiros, numero_intentos):\n",
    "    tiros = []\n",
    "    for _ in range(numero_intentos):\n",
    "        secuencia_tiros = tirar_dado(numero_tiros)\n",
    "        tiros.append(secuencia_tiros)\n",
    "    \n",
    "    tiros_1 = 0\n",
    "    for tiro in tiros:\n",
    "        if 1 in tiro:\n",
    "            tiros_1 += 1\n",
    "    \n",
    "    probabilidad_tiros_1 = tiros_1 / numero_intentos\n",
    "    print(f\"Probabilidad de obtener un 1 en {numero_tiros} tiros = {probabilidad_tiros_1}\")\n",
    "\n",
    "numero_tiros = int(input(\"Cuantos tiros del dado: \"))\n",
    "numero_intentos = int(input(\"Cuantas veces correra la simulacion: \"))\n",
    "main(numero_tiros, numero_intentos)"
   ]
  },
  {
   "cell_type": "markdown",
   "metadata": {},
   "source": [
    "El principio guía de la Inferencia Estadística es que una muestra aleatoria tiende a exhibir las mismas propiedades que la población de la cual fue extraída"
   ]
  },
  {
   "cell_type": "markdown",
   "metadata": {},
   "source": [
    "## Falacia del Apostador\n",
    "\n",
    "- La falacia del apostador señala que despues de un evento extremo, ocurriran eventos menos extremos para nivelar la media\n",
    "\n",
    "- La regresion a la media señala que despues de un evento aleatorio extremo, el siguiente evento probablemente sera menos extremo\n",
    "\n",
    "### Media\n",
    "\n",
    "- Es una medida de tendencia central\n",
    "- Comunmente es conocida como el promedio\n",
    "- La media de una pobalcion se denota con el simbolo u (masomenos). La media de una muestra se denota con x (con una _ arriba)\n",
    "\n",
    "### Varianza\n",
    "\n",
    "- La varianza mide que tan propagados se encuentran un conjunto de valores aleatorios de su media\n",
    "- Mientras que la media nos da una idea de donde se encuentran los valores, la varianza nos dice que tan dispersos se encuentran\n",
    "- La varianza siempre debe entenderse con respecto a la media.\n",
    "\n",
    "### Desviacion estandar\n",
    "\n",
    "- La desviacion estandar es la raiz cuadrada de la varianza\n",
    "- Nos permite entender, tambien, la propagacion y se debe entender siempre relacionado a la medida\n",
    "- La ventaja sobre la varianza es que la desviacion estandar esta en las mismas unidades que la media.\n",
    "\n",
    "### Distribucion Normal\n",
    "\n",
    "- Es una de las distribuciones mas recurrentes en cualquier ambito\n",
    "- Se define completamente por su media y su desviacion estandar\n",
    "- Permite calcular intervalos de confianza con la regla empirica\n"
   ]
  },
  {
   "cell_type": "code",
   "execution_count": 4,
   "metadata": {},
   "outputs": [
    {
     "name": "stdout",
     "output_type": "stream",
     "text": [
      "Arreglo x: [12, 11, 9, 10, 10, 12, 10, 11, 10, 11, 10, 11, 12, 11, 9, 12, 12, 9, 12, 12]\n",
      "Media: 10.8\n",
      "Varianza: 3.1999999999999957\n",
      "Sigma: 1.7888543819998306\n"
     ]
    }
   ],
   "source": [
    "# estadisticas\n",
    "import math\n",
    "import random\n",
    "\n",
    "def media(x):\n",
    "    return sum(x) / len(x)\n",
    "\n",
    "def varianza(x):\n",
    "    mu = media(x)\n",
    "    acumulador = 0\n",
    "    for i in x:\n",
    "        acumulador += (i - mu) ** 2\n",
    "        \n",
    "    return abs(acumulador - len(x))\n",
    "\n",
    "\n",
    "def desviacion_estandar(x):\n",
    "    return math.sqrt(varianza(x))\n",
    "    \n",
    "\n",
    "if __name__ == \"__main__\":\n",
    "    x = [random.randint(9, 12) for i in range(20)]\n",
    "    mu = media(x)\n",
    "    var = varianza(x)\n",
    "    sigma = desviacion_estandar(x)\n",
    "    \n",
    "    print(f'Arreglo x: {x}')\n",
    "    print(f'Media: {mu}')\n",
    "    print(f'Varianza: {var}')\n",
    "    print(f'Sigma: {sigma}')"
   ]
  },
  {
   "cell_type": "markdown",
   "metadata": {},
   "source": [
    "### Regal Empirica\n",
    "\n",
    "- Tambien conocida como la regla 68-95-99.7\n",
    "- Señala cual es la dispersion de los datos en una distribucion normal a uno, dos y tres sigmas\n",
    "- Permite calcular probabilidades con la densidad de la distribucion normal"
   ]
  },
  {
   "cell_type": "markdown",
   "metadata": {},
   "source": [
    "## Simulaciones de Montecarlo\n",
    "\n",
    "El método de Montecarlo es un método no determinista o estadístico numérico, usado para aproximar expresiones matemáticas complejas y costosas de evaluar con exactitud. El método se llamó así en referencia al Casino de Montecarlo (Mónaco) por ser \"la capital del juego de azar\", al ser la ruleta un generador simple de números aleatorios. El nombre y el desarrollo sistemático de los métodos de Montecarlo datan aproximadamente de 1944 y se mejoraron enormemente con el desarrollo de la computadora.\n",
    "\n",
    "- Permite crear simulaciones para predecir el resultado de una computadora\n",
    "- Permite convertir problemas deterministicos en problemas estocasticos\n",
    "- Es utilizado en una gran diversidad de areas desde la ingenieria hasta la biologia y el derecho"
   ]
  },
  {
   "cell_type": "markdown",
   "metadata": {},
   "source": [
    "## Simulacion de Barajas"
   ]
  },
  {
   "cell_type": "code",
   "execution_count": 5,
   "metadata": {},
   "outputs": [
    {
     "name": "stdout",
     "output_type": "stream",
     "text": [
      "De cuantas barajas sera la mano: 5\n",
      "Cuantos intentos para calcular la probabilidad: 1000\n",
      "La probabilidad de obtener un par en una mano de 5 barajas es 0.479\n"
     ]
    }
   ],
   "source": [
    "# Barajas\n",
    "import random\n",
    "import collections\n",
    "\n",
    "PALOS = [\"espada\", \"corazon\", \"rombo\", \"trebol\"]\n",
    "VALORES = [\"as\", \"2\", \"3\", \"4\", \"5\", \"6\", \"7\", \"8\", \"9\", \"10\", \"jota\", \"reina\", \"rey\"]\n",
    "\n",
    "def crear_baraja():\n",
    "    barajas = []\n",
    "    for palo in PALOS:\n",
    "        for valor in VALORES:\n",
    "            barajas.append((palo, valor))\n",
    "        \n",
    "        \n",
    "    return barajas\n",
    "\n",
    "def obtener_mano(barajas, tamano_mano):\n",
    "    mano = random.sample(barajas, tamano_mano)\n",
    "    \n",
    "    return mano\n",
    "\n",
    "def main(tamano_mano, intentos):\n",
    "    barajas = crear_baraja()\n",
    "    manos = []\n",
    "    for _ in range(intentos):\n",
    "        mano = obtener_mano(barajas, tamano_mano)\n",
    "        manos.append(mano)\n",
    "    \n",
    "    pares = 0\n",
    "    for mano in manos:\n",
    "        valores = []\n",
    "        for carta in mano:\n",
    "            valores.append(carta[1])\n",
    "            \n",
    "        counter = dict(collections.Counter(valores))\n",
    "        for val in counter.values():\n",
    "            if val == 2:\n",
    "                pares += 1\n",
    "                break\n",
    "                \n",
    "    probabilidad_par = pares / intentos\n",
    "    print(f\"La probabilidad de obtener un par en una mano de {tamano_mano} barajas es {probabilidad_par}\")\n",
    "\n",
    "tamano_mano = int(input(\"De cuantas barajas sera la mano: \"))\n",
    "intentos = int(input(\"Cuantos intentos para calcular la probabilidad: \"))\n",
    "main(tamano_mano, intentos)\n",
    "\n",
    "# Probabilidad de Consecutiva"
   ]
  },
  {
   "cell_type": "markdown",
   "metadata": {},
   "source": [
    "## Calculo de PI\n",
    "\n"
   ]
  },
  {
   "cell_type": "code",
   "execution_count": 11,
   "metadata": {},
   "outputs": [
    {
     "name": "stdout",
     "output_type": "stream",
     "text": [
      "Est=3.14248, Sigma=31.57945, Agujas=1000\n",
      "Est=3.14266, Sigma=31.60062, Agujas=2000\n",
      "Est=3.14104, Sigma=31.61223, Agujas=4000\n"
     ]
    }
   ],
   "source": [
    "def aventar_agujas(num_agujas):\n",
    "    dentro_del_circulo = 0\n",
    "    \n",
    "    for _ in range(num_agujas):\n",
    "        x = random.random() * random.choice([-1, 1])\n",
    "        y = random.random() * random.choice([-1, 1])\n",
    "        distancia_desde_el_centro = math.sqrt(x**2 + y**2)\n",
    "        \n",
    "        if distancia_desde_el_centro <= 1:\n",
    "            dentro_del_circulo += 1\n",
    "            \n",
    "    return (4 * dentro_del_circulo) / num_agujas\n",
    "\n",
    "def estimacion(num_agujas, num_intentos):\n",
    "    estimados = []\n",
    "    for _ in range(num_intentos):\n",
    "        estimacion_pi = aventar_agujas(num_agujas)\n",
    "        estimados.append(estimacion_pi)\n",
    "    \n",
    "    media_estimados = media(estimados)\n",
    "    sigma = desviacion_estandar(estimados)\n",
    "    print(f\"Est={round(media_estimados, 5)}, Sigma={round(sigma, 5)}, Agujas={num_agujas}\")\n",
    "    \n",
    "    return (media_estimados, sigma)\n",
    "    \n",
    "def estimar_pi(precision, numero_intentos):\n",
    "    numero_agujas = 1000\n",
    "    sigma = precision\n",
    "    count = 0\n",
    "    \n",
    "    while sigma >= precision / 1.96:\n",
    "        if count == 3:\n",
    "            break\n",
    "            \n",
    "        media, sigma = estimacion(numero_agujas, numero_intentos)\n",
    "        numero_agujas *= 2\n",
    "        count += 1\n",
    "        \n",
    "    return media\n",
    "\n",
    "if __name__ == \"__main__\":\n",
    "    estimar_pi(0.01, 1000)"
   ]
  },
  {
   "cell_type": "markdown",
   "metadata": {},
   "source": [
    "### Muestreo\n",
    "\n",
    "- Hay ocasiones en la que no tenemos acceso a toda la poblacion que queremos explorar.\n",
    "- Uno de los grandes descubrimientos de la estadistica es que las muestras aleatorias tienden a mostrar las mismas propiedades de la poblacion objetivo.\n",
    "- El tipo de muestreo que hemos hecho hasta ahora es muestreo probabilistico.\n",
    "\n",
    "#### Tipos\n",
    "- En un muestreo aleatorio cualquier miembro de la poblacion tiene la misma probabilidad de ser escogido\n",
    "- En un muestreo estratificado tomamos en consideracion las caracteristicas de la poblacion para partirla en subgrupos y luego tomamos muestras de cada subgrupo\n",
    "    - Incrementa la probabilidad de que el muestreo sea representativo de la poblacion"
   ]
  },
  {
   "cell_type": "markdown",
   "metadata": {},
   "source": [
    "## Teorema del Límite Central\n",
    "\n",
    "- Es uno de los teoremas mas importantes de la estadistica\n",
    "- Establece que muestras aleatorias de cualquier distribucion van a tener una distribucion normal\n",
    "- Permite entender cualquier distribucion como la distribucion normal de sus medias y eso nos permite aplicar todo lo que sabemos de distribuciones normales"
   ]
  },
  {
   "cell_type": "markdown",
   "metadata": {},
   "source": [
    "## Datos Experimentales\n",
    "\n",
    "- Es la aplicacion del metodo cientifico\n",
    "- Es necesario comenzar con una teoria o hipotesis sobre el resultado al que se quiere llegar\n",
    "- Basado en la hipotesis se debe crear un experimento para validar o falsear la hipotesis\n",
    "- Se valida o falsea una hipotesis midiendo la diferencia entre las mediciones experimentales y aquellas mediciones predichas por la hipotesis"
   ]
  },
  {
   "cell_type": "markdown",
   "metadata": {},
   "source": [
    "## Regresion Lineal\n",
    "\n",
    "- Permite aproximar una funcion a un conjunto de datos obtenidos de manera experimental\n",
    "- No necesariamente permite aproximar funciones lineales, sino que sus variantes permiten aproximar cualquier funcion polinomica"
   ]
  },
  {
   "cell_type": "code",
   "execution_count": 7,
   "metadata": {},
   "outputs": [
    {
     "name": "stdout",
     "output_type": "stream",
     "text": [
      "[0.96666667 1.13333333]\n"
     ]
    }
   ],
   "source": [
    "import numpy as np\n",
    "\n",
    "x = np.array([0, 1, 2, 3, 4, 5, 6, 7, 8])\n",
    "y = np.array([1, 2, 3, 5, 4, 6, 8, 7, 9])\n",
    "\n",
    "coeffs = np.polyfit(x, y, 1)\n",
    "print(coeffs)"
   ]
  },
  {
   "cell_type": "code",
   "execution_count": 8,
   "metadata": {},
   "outputs": [],
   "source": [
    "m = coeffs[0]\n",
    "b = coeffs[1]\n",
    "est_y = (m * x) + b"
   ]
  },
  {
   "cell_type": "code",
   "execution_count": 12,
   "metadata": {},
   "outputs": [
    {
     "data": {
      "image/png": "[encoded data removed]",
      "text/plain": [
       "<Figure size 432x288 with 1 Axes>"
      ]
     },
     "metadata": {
      "needs_background": "light"
     },
     "output_type": "display_data"
    }
   ],
   "source": [
    "import matplotlib.pyplot as plt\n",
    "\n",
    "plt.plot(x, est_y)\n",
    "plt.scatter(x, y)\n",
    "plt.show()"
   ]
  }
 ],
 "metadata": {
  "kernelspec": {
   "display_name": "Python 3",
   "language": "python",
   "name": "python3"
  },
  "language_info": {
   "codemirror_mode": {
    "name": "ipython",
    "version": 3
   },
   "file_extension": ".py",
   "mimetype": "text/x-python",
   "name": "python",
   "nbconvert_exporter": "python",
   "pygments_lexer": "ipython3",
   "version": "3.8.8"
  }
 },
 "nbformat": 4,
 "nbformat_minor": 4
}
